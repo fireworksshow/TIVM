{
 "cells": [
  {
   "cell_type": "code",
   "execution_count": 4,
   "metadata": {},
   "outputs": [
    {
     "name": "stdout",
     "output_type": "stream",
     "text": [
      "Found TEKTRONIX,TDS 2002B,C057729,CF:91.1CT FV:v22.16 on address: USB0::0x0699::0x0364::C057729::INSTR\n",
      "Found GW.Inc,GDM-8246,FW2.01 on address: ASRL1::INSTR\n",
      "Found GW.Inc,PST-3201,I180086 ,FW1.00 on address: ASRL4::INSTR\n",
      "Found 15MHz, Function Generator, V.1.21 on address: ASRL5::INSTR\n"
     ]
    }
   ],
   "source": [
    "find_resources()"
   ]
  },
  {
   "cell_type": "code",
   "execution_count": 5,
   "metadata": {
    "scrolled": true
   },
   "outputs": [
    {
     "name": "stderr",
     "output_type": "stream",
     "text": [
      "┌ Info: GW.Inc,PST-3201,I180086 ,FW1.00\n",
      "└ @ Main In[5]:12\n",
      "┌ Info: GW.Inc,GDM-8246,FW2.01\n",
      "└ @ Main In[5]:13\n",
      "┌ Info: 15MHz, Function Generator, V.1.21\n",
      "└ @ Main In[5]:14\n",
      "┌ Info: TEKTRONIX,TDS 2002B,C057729,CF:91.1CT FV:v22.16\n",
      "└ @ Main In[5]:15\n"
     ]
    },
    {
     "data": {
      "text/plain": [
       "Task (runnable) @0x000000001a22f0f0"
      ]
     },
     "execution_count": 5,
     "metadata": {},
     "output_type": "execute_result"
    }
   ],
   "source": [
    "dmm_handle = connect!(\"ASRL1::INSTR\")\n",
    "psu_handle = connect!(\"ASRL4::INSTR\")\n",
    "fgen_handle = connect!(\"ASRL5::INSTR\")\n",
    "scope_handle = connect!(\"USB0::0x0699::0x0364::C057729::INSTR\")\n",
    "\n",
    "dmm = TIVM.GDM8246(dmm_handle);\n",
    "psu = TIVM.PST3201(psu_handle);\n",
    "fgen = TIVM.GFG3015(fgen_handle);\n",
    "scope = TIVM.TDS2002B(scope_handle);\n",
    "# warmup\n",
    "try\n",
    "\t@info query(psu_handle, \"*IDN?\")\n",
    "\t@info query(dmm_handle, \"*IDN?\")\n",
    "\t@info query(fgen_handle, \"*IDN?\")\n",
    "\t@info query(scope_handle, \"*IDN?\")\n",
    "catch\n",
    "\t@info query(psu_handle, \"*IDN?\")\n",
    "\t@info query(dmm_handle, \"*IDN?\")\n",
    "\t@info query(fgen_handle, \"*IDN?\")\n",
    "\t@info query(scope_handle, \"*IDN?\")\n",
    "end\n",
    "\n",
    "# START gui\n",
    "@async start_gui(psu_handle = psu_handle, dmm_handle = dmm_handle, fgen_handle = fgen_handle, scope_handle = scope_handle)\n",
    "#Threads.@spawn start_gui(psu_handle = psu_handle, dmm_handle = dmm_handle)\n",
    "#Threads.@spawn start_gui(fgen_handle = fgen_handle, scope_handle = scope_handle)"
   ]
  },
  {
   "cell_type": "code",
   "execution_count": 6,
   "metadata": {},
   "outputs": [
    {
     "data": {
      "text/plain": [
       "0"
      ]
     },
     "execution_count": 6,
     "metadata": {},
     "output_type": "execute_result"
    }
   ],
   "source": [
    "disconnect!(dmm_handle)\n",
    "disconnect!(psu_handle)\n",
    "disconnect!(fgen_handle)\n",
    "disconnect!(scope_handle)"
   ]
  }
 ],
 "metadata": {
  "kernelspec": {
   "display_name": "Julia 1.5.2",
   "language": "julia",
   "name": "julia-1.5"
  },
  "language_info": {
   "file_extension": ".jl",
   "mimetype": "application/julia",
   "name": "julia",
   "version": "1.5.2"
  }
 },
 "nbformat": 4,
 "nbformat_minor": 4
}
