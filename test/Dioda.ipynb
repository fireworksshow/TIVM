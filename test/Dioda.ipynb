{
 "cells": [
  {
   "cell_type": "markdown",
   "metadata": {},
   "source": [
    "https://www.markdownguide.org/cheat-sheet/"
   ]
  },
  {
   "cell_type": "markdown",
   "metadata": {},
   "source": [
    "# Testarea Automată a Circuitelor\n",
    "        --- Îndrumar de Laborator ---"
   ]
  },
  {
   "cell_type": "markdown",
   "metadata": {},
   "source": [
    "### Lucrarea nr. 1 - Caracteristica diodei"
   ]
  },
  {
   "attachments": {
    "montaj_dioda-2.PNG": {
     "image/png": "[encoded data removed]"
    }
   },
   "cell_type": "markdown",
   "metadata": {},
   "source": [
    "#### 1.1 Montajul experimental:\n",
    "![montaj_dioda-2.PNG](attachment:montaj_dioda-2.PNG)"
   ]
  },
  {
   "cell_type": "markdown",
   "metadata": {},
   "source": [
    "#### 1.2 Procedura de masurare:\n",
    "Multimetrul măsoară căderea de tensiune pe diodă. Curentul poate fi măsurat indirect,\n",
    "folosind următoarea formulă (Vpsu reprezintă tensiunea de ieșire a sursei de alimentare):\n",
    "𝐼𝐷 = (𝑉𝑃𝑆𝑈 − 𝑉𝐷) / 𝑅1\n"
   ]
  },
  {
   "cell_type": "markdown",
   "metadata": {},
   "source": [
    "#### 1.3 Codul sursa:\n",
    "1.3.1 Initializarea instrumentelor si a interfetelor grafice"
   ]
  },
  {
   "cell_type": "code",
   "execution_count": 1,
   "metadata": {},
   "outputs": [
    {
     "name": "stderr",
     "output_type": "stream",
     "text": [
      "┌ Info: Precompiling TIVM [b8d23480-b8ee-42fe-a617-db155b4b1a29]\n",
      "└ @ Base loading.jl:1278\n",
      "┌ Warning: Package TIVM does not have Printf in its dependencies:\n",
      "│ - If you have TIVM checked out for development and have\n",
      "│   added Printf as a dependency but haven't updated your primary\n",
      "│   environment's manifest file, try `Pkg.resolve()`.\n",
      "│ - Otherwise you may need to report an issue with TIVM\n",
      "└ Loading Printf into TIVM from project dependency, future warnings for TIVM are suppressed.\n"
     ]
    }
   ],
   "source": [
    "using TIVM # libraria responsabila de comunicatia cu instrumentele si cu interfetele grafice(front panels)\n",
    "using Plots # libraria responsabila de generarea de grafice\n",
    "using CSV # libraria responsabila de salvarea datelor in format .csv"
   ]
  },
  {
   "cell_type": "code",
   "execution_count": null,
   "metadata": {},
   "outputs": [],
   "source": [
    "dmm = connect!(\"ASRL5::INSTR\")\n",
    "psu = connect!(\"ASRL14::INSTR\")\n",
    "#fgen = connect!(\"ASRL8::INSTR\")\n",
    "#scope = connect!(\"USB0::0x0699::0x0364::C057729::INSTR\")"
   ]
  },
  {
   "cell_type": "code",
   "execution_count": null,
   "metadata": {},
   "outputs": [],
   "source": [
    "@async TIVM.start_gui(psu_handle = psu, dmm_handle = dmm, fgen_handle = fgen, scope_handle = scope)"
   ]
  },
  {
   "cell_type": "markdown",
   "metadata": {},
   "source": [
    "1.3.2 Connfigurarea instrumentelor"
   ]
  },
  {
   "cell_type": "code",
   "execution_count": null,
   "metadata": {},
   "outputs": [],
   "source": [
    "# Sursa de tensiune\n",
    "# C1\n",
    "set_source_lev(psu, \"C1\", 0)\n",
    "set_volt_protection(psu, \"C1\", 20)\n",
    "set_max_curr(psu, \"C1\", 0.5)\n",
    "# C2\n",
    "set_source_lev(psu, \"C2\", 0)\n",
    "set_volt_protection(psu, \"C2\", 20)\n",
    "set_max_curr(psu, \"C2\", 0.5)\n",
    "# C3\n",
    "set_source_lev(psu, \"C3\", 0)\n",
    "set_volt_protection(psu, \"C3\", 20)\n",
    "set_max_curr(psu, \"C3\", 0.5)\n",
    "# Output on\n",
    "set_outp(psu, \"C1\", \"on\") # PST3201 nu poate porni/opri canale individual\n",
    "\n",
    "# Multimetrul GDM8246\n",
    "set_sense_func(fgen, \"C1\", \"DCV\") # alte functii: ACV, AC+DCV, RIPPLE, OHM\n",
    "set_sense_range_auto(fgen, \"C1\", \"on\") # autorange"
   ]
  },
  {
   "cell_type": "markdown",
   "metadata": {},
   "source": [
    "1.3.3 Definirea stimulilor si a variabilelor auxiliare"
   ]
  },
  {
   "cell_type": "code",
   "execution_count": null,
   "metadata": {},
   "outputs": [],
   "source": [
    "R1 = 47\n",
    "volt_step = 0.1\n",
    "volt_range = volt_step:volt_step:3.0\n",
    "diode_volt = []\n",
    "diode_crt = []"
   ]
  },
  {
   "cell_type": "markdown",
   "metadata": {},
   "source": [
    "1.3.4 Bucla de masurare"
   ]
  },
  {
   "cell_type": "code",
   "execution_count": null,
   "metadata": {},
   "outputs": [],
   "source": [
    "for crt_volt in volt_range\n",
    "    # setare tensiune psu\n",
    "    set_source_lev(psu, \"C1\", crt_volt)\n",
    "    sleep(0.3)\n",
    "    # masurare tensiune cu dmm\n",
    "    volt_meas = get_primary_measurement(dmm, \"C1\")\n",
    "    # calcul curent pe baza formulei\n",
    "    crt_meas = (crt_volt - volt_meas)/R\n",
    "    # adaugarea masuratorilor in vectorii de rezultate\n",
    "    push!(diode_volt, volt_meas)\n",
    "    push!(diode_crt, crt_meas)\n",
    "end"
   ]
  },
  {
   "cell_type": "markdown",
   "metadata": {},
   "source": [
    "1.3.5 Generarea caracteristicii Curent-Tensiune a diodei, dupa incheierea masuratorilor"
   ]
  },
  {
   "cell_type": "code",
   "execution_count": null,
   "metadata": {},
   "outputs": [],
   "source": [
    "h=plot(diode_volt, diode_crt);\n",
    "title!(\"Caracteristica IAK(VAK)\");\n",
    "xlabel!(\"Tensiune[V]\");\n",
    "ylabel!(\"Curent[A]\");\n",
    "display(h)"
   ]
  },
  {
   "cell_type": "markdown",
   "metadata": {},
   "source": [
    "1.3.6 Deconectarea instrumentelor"
   ]
  },
  {
   "cell_type": "code",
   "execution_count": null,
   "metadata": {},
   "outputs": [],
   "source": [
    "disconnect!(dmm)\n",
    "disconnect!(psu)"
   ]
  },
  {
   "cell_type": "markdown",
   "metadata": {},
   "source": [
    "1.3.7 Salvarea datelor in fisierul .csv"
   ]
  },
  {
   "cell_type": "code",
   "execution_count": 34,
   "metadata": {},
   "outputs": [
    {
     "data": {
      "text/plain": [
       "\"dioda.csv\""
      ]
     },
     "execution_count": 34,
     "metadata": {},
     "output_type": "execute_result"
    }
   ],
   "source": [
    "CSV.write(\"dioda.csv\", (diode_volt = diode_volt, diode_crt = diode_crt); header = [\"Voltage [V]\", \"Current [A]\"])"
   ]
  }
 ],
 "metadata": {
  "kernelspec": {
   "display_name": "Julia 1.5.1",
   "language": "julia",
   "name": "julia-1.5"
  },
  "language_info": {
   "file_extension": ".jl",
   "mimetype": "application/julia",
   "name": "julia",
   "version": "1.5.1"
  }
 },
 "nbformat": 4,
 "nbformat_minor": 4
}
