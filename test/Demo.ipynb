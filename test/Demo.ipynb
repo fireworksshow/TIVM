{
 "cells": [
  {
   "cell_type": "code",
   "execution_count": null,
   "metadata": {},
   "outputs": [],
   "source": [
    "\n",
    "dmm = connect!(\"ASRL4::INSTR\")\n",
    "psu = connect!(\"ASRL5::INSTR\")\n",
    "fgen = connect!(\"ASRL1::INSTR\")\n",
    "scope = connect!(\"USB0::0x0699::0x0364::C057729::INSTR\")\n",
    "\n",
    "\n",
    "# warmup\n",
    "try\n",
    "\t@info query(psu, \"*IDN?\")\n",
    "\t@info query(dmm, \"*IDN?\")\n",
    "\t@info query(fgen, \"*IDN?\")\n",
    "\t@info query(scope, \"*IDN?\")\n",
    "catch\n",
    "\t@info query(psu, \"*IDN?\")\n",
    "\t@info query(dmm, \"*IDN?\")\n",
    "\t@info query(fgen, \"*IDN?\")\n",
    "\t@info query(scope, \"*IDN?\")\n",
    "end\n",
    "\n",
    "# START gui\n",
    "#@async TIVM.start_gui(psu_handle = psu, dmm_handle = dmm, fgen_handle = fgen, scope_handle = scope)\n",
    "\n",
    "\n",
    "# disconnect\n",
    "#disconnect!(psu)\n",
    "#disconnect!(dmm)\n",
    "#disconnect!(fgen)\n",
    "#disconnect!(scope)"
   ]
  },
  {
   "cell_type": "code",
   "execution_count": null,
   "metadata": {
    "scrolled": true
   },
   "outputs": [],
   "source": [
    "@async TIVM.start_gui(psu_handle = psu, dmm_handle = dmm, fgen_handle = fgen, scope_handle = scope)"
   ]
  },
  {
   "cell_type": "code",
   "execution_count": null,
   "metadata": {},
   "outputs": [],
   "source": [
    "osc = TIVM.TDS2002B(scope)"
   ]
  },
  {
   "cell_type": "code",
   "execution_count": 19,
   "metadata": {},
   "outputs": [
    {
     "name": "stdout",
     "output_type": "stream",
     "text": [
      "  0.095173 seconds (149 allocations: 3.484 KiB)\n",
      "  0.095420 seconds (14 allocations: 976 bytes)\n",
      "  0.095386 seconds (23 allocations: 1.203 KiB)\n",
      "  0.096152 seconds (23 allocations: 1.203 KiB)\n",
      "  0.115824 seconds (24 allocations: 1.531 KiB)\n",
      "  0.095595 seconds (14 allocations: 976 bytes)\n",
      "  0.115187 seconds (23 allocations: 1.203 KiB)\n",
      "  0.095748 seconds (14 allocations: 976 bytes)\n",
      "  0.095919 seconds (22 allocations: 1.188 KiB)\n",
      "  0.095125 seconds (23 allocations: 1.203 KiB)\n",
      "  0.095966 seconds (23 allocations: 1.203 KiB)\n",
      "  0.095557 seconds (23 allocations: 1.203 KiB)\n",
      "  0.095700 seconds (23 allocations: 1.203 KiB)\n",
      "  0.095486 seconds (23 allocations: 1.203 KiB)\n",
      "  0.095590 seconds (16 allocations: 1008 bytes)\n",
      "  0.153295 seconds (15 allocations: 1.047 KiB)\n",
      "  0.116229 seconds (14 allocations: 976 bytes)\n",
      "  0.096229 seconds (23 allocations: 1.203 KiB)\n",
      "  0.103783 seconds (26 allocations: 1.562 KiB)\n",
      "  0.096539 seconds (23 allocations: 1.203 KiB)\n"
     ]
    }
   ],
   "source": [
    "for i=1:20\n",
    "    @time TIVM.get_horizontal_scale(osc, \"Time\")\n",
    "end"
   ]
  },
  {
   "cell_type": "code",
   "execution_count": 18,
   "metadata": {},
   "outputs": [
    {
     "data": {
      "text/plain": [
       "2"
      ]
     },
     "execution_count": 18,
     "metadata": {},
     "output_type": "execute_result"
    }
   ],
   "source": [
    "1+1"
   ]
  },
  {
   "cell_type": "code",
   "execution_count": null,
   "metadata": {},
   "outputs": [],
   "source": [
    "for i=1:20\n",
    "    @time query(scope, \"CH1:POSition?\")\n",
    "end"
   ]
  },
  {
   "cell_type": "code",
   "execution_count": null,
   "metadata": {},
   "outputs": [],
   "source": [
    "ch=\"CH1\"\n",
    "#@time TIVM.write(scope, \"SELect:$ch ON\")\n",
    "#@time TIVM.write(scope, \"DATa:SOUrce $ch;DATa:ENCdg SRIBINARY;DATa:WIDth 1;DATa:STARt 1;DATa:STOP 2500\")\n",
    "\n",
    "y_buffer = zeros(UInt8, 2506)\n",
    "@time TIVM.write(scope, \"CURVE?\")\n",
    "@time TIVM.viRead!(scope, y_buffer)\n",
    "\n",
    "@time gain = parse(Float64, query(scope, \"WFMPre:YMUlt?\"))\n",
    "#offs = parse(Float64, query(scope, \"WFMPre:YOFf?\")) # THIS IS A PIECE OF SHIT COMMAND!!!!\n",
    "@time offs = parse(Float64, query(scope, \"$ch:POSition?\"))\n",
    "@time dt = parse(Float64, query(scope, \"WFMPre:XINcr?\"))"
   ]
  },
  {
   "cell_type": "code",
   "execution_count": null,
   "metadata": {},
   "outputs": [],
   "source": [
    "duty = 20:1:80\n",
    "for d in duty\n",
    "    TIVM.write(fgen, \":DUTY $d\")\n",
    "    sleep(0.1)\n",
    "end"
   ]
  },
  {
   "cell_type": "code",
   "execution_count": null,
   "metadata": {},
   "outputs": [],
   "source": [
    "freq = 1000:100:15000\n",
    "for f in freq\n",
    "    TIVM.write(fgen, \":FREQuency $f\")\n",
    "    sleep(0.1)\n",
    "end"
   ]
  },
  {
   "cell_type": "code",
   "execution_count": null,
   "metadata": {},
   "outputs": [],
   "source": [
    "plot(0:0.1:10, exp.(0:0.1:10))"
   ]
  },
  {
   "cell_type": "code",
   "execution_count": null,
   "metadata": {
    "scrolled": true
   },
   "outputs": [],
   "source": [
    "# for i=1:20\n",
    "    @info query(scope, \"MEASUrement:MEAS1:VALUE?\")\n",
    "# end"
   ]
  },
  {
   "cell_type": "code",
   "execution_count": null,
   "metadata": {},
   "outputs": [],
   "source": [
    "vec=[]\n",
    "@async fetch(begin\n",
    "        for j=1:20\n",
    "        push!(vec,  query(scope, \"MEASUrement:MEAS1:VALUE?\")*\"remote\")\n",
    "    end\n",
    "    end)\n",
    "for i=1:20 \n",
    "    @info query(scope, \"MEASUrement:MEAS1:VALUE?\")*\"main\"\n",
    "end"
   ]
  },
  {
   "cell_type": "code",
   "execution_count": null,
   "metadata": {},
   "outputs": [],
   "source": [
    "busy = false"
   ]
  },
  {
   "cell_type": "code",
   "execution_count": null,
   "metadata": {},
   "outputs": [],
   "source": [
    "@async begin\n",
    "    while busy\n",
    "    println(\"busy\")\n",
    "    sleep(0.5)\n",
    "end\n",
    "    println(\"not busy\")\n",
    "end"
   ]
  },
  {
   "cell_type": "code",
   "execution_count": null,
   "metadata": {},
   "outputs": [],
   "source": [
    "function do_stuff(x)\n",
    "    while busy\n",
    "        sleep(0.5)\n",
    "        println(\"still busy\")\n",
    "    end\n",
    "    println(\"not busy anymore;$x\")\n",
    "end\n",
    "function upper_stuff(x)\n",
    "    do_stuff(x)\n",
    "end"
   ]
  },
  {
   "cell_type": "code",
   "execution_count": null,
   "metadata": {},
   "outputs": [],
   "source": [
    "@async upper_stuff(1)"
   ]
  },
  {
   "cell_type": "code",
   "execution_count": null,
   "metadata": {},
   "outputs": [],
   "source": [
    "query(scope,\"*OPC?\")"
   ]
  },
  {
   "cell_type": "code",
   "execution_count": 12,
   "metadata": {},
   "outputs": [
    {
     "data": {
      "text/plain": [
       "10000.0"
      ]
     },
     "execution_count": 12,
     "metadata": {},
     "output_type": "execute_result"
    }
   ],
   "source": [
    "Float64(GenericInstruments.viGetAttribute(scope, GenericInstruments.VI_ATTR_TMO_VALUE))\n",
    "GenericInstruments.viSetAttribute(scope, GenericInstruments.VI_ATTR_TMO_VALUE, 10000)\n",
    "Float64(GenericInstruments.viGetAttribute(scope, GenericInstruments.VI_ATTR_TMO_VALUE))"
   ]
  }
 ],
 "metadata": {
  "kernelspec": {
   "display_name": "Julia 1.5.1",
   "language": "julia",
   "name": "julia-1.5"
  },
  "language_info": {
   "file_extension": ".jl",
   "mimetype": "application/julia",
   "name": "julia",
   "version": "1.5.1"
  }
 },
 "nbformat": 4,
 "nbformat_minor": 4
}
